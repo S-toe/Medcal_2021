{
 "metadata": {
  "language_info": {
   "codemirror_mode": {
    "name": "ipython",
    "version": 3
   },
   "file_extension": ".py",
   "mimetype": "text/x-python",
   "name": "python",
   "nbconvert_exporter": "python",
   "pygments_lexer": "ipython3",
   "version": "3.9.5"
  },
  "orig_nbformat": 2,
  "kernelspec": {
   "name": "python395jvsc74a57bd00f97c46ce0d57988bee84d378ddb9864b42a921eda166ff2f0cbb025b3638800",
   "display_name": "Python 3.9.5 64-bit ('PythonSoftwareFoundation.Python.3.9_qbz5n2kfra8p0')"
  },
  "metadata": {
   "interpreter": {
    "hash": "0f97c46ce0d57988bee84d378ddb9864b42a921eda166ff2f0cbb025b3638800"
   }
  }
 },
 "nbformat": 4,
 "nbformat_minor": 2,
 "cells": [
  {
   "cell_type": "code",
   "execution_count": 1,
   "metadata": {},
   "outputs": [],
   "source": [
    "import cv2\n",
    "import random"
   ]
  },
  {
   "cell_type": "code",
   "execution_count": 2,
   "metadata": {},
   "outputs": [],
   "source": [
    "scale = 0.5\n",
    "circles = []\n",
    "counter = 0\n",
    "counter2 = 0\n",
    "point1 = []\n",
    "point2 = []\n",
    "myPoints = []\n",
    "myColor = []"
   ]
  },
  {
   "cell_type": "code",
   "execution_count": 3,
   "metadata": {},
   "outputs": [],
   "source": [
    "def mousePoints(event,x,y,flags,params):\n",
    "    global counter,point1,point2,counter2,circles,myColor\n",
    "    if event == cv2.EVENT_LBUTTONDOWN:\n",
    "        if counter==0:\n",
    "            point1 = int(x//scale),int(y//scale)\n",
    "            counter +=1\n",
    "            myColor = (random.randint(0,2)*200,random.randint(0,2)*200,random.randint(0,2)*200)\n",
    "        elif counter ==1:\n",
    "            point2=int(x//scale),int(y//scale)\n",
    "            type = input('Enter Type')\n",
    "            name = input('Enter Name')\n",
    "            myPoints.append([point1,point2,type,name])\n",
    "            counter=0\n",
    "        circles.append([x,y,myColor])\n",
    "        counter2 += 1\n"
   ]
  },
  {
   "cell_type": "code",
   "execution_count": 6,
   "metadata": {},
   "outputs": [],
   "source": [
    "img = cv2.imread('resep.png')\n",
    "img = cv2.resize(img, (0, 0), None, scale, scale)"
   ]
  },
  {
   "cell_type": "code",
   "execution_count": 7,
   "metadata": {},
   "outputs": [
    {
     "output_type": "stream",
     "name": "stdout",
     "text": [
      "[[(212, 1038), (648, 1120), 'text', 'obat1'], [(218, 1156), (1054, 1222), 'text', 'obat2']]\n"
     ]
    }
   ],
   "source": [
    "while True:\n",
    "    #To Display points\n",
    "    for x,y,color in circles:\n",
    "        cv2.circle(img,(x,y),3,color,cv2.FILLED)\n",
    "    cv2.imshow(\"Original Image\", img)\n",
    "    cv2.setMouseCallback(\"Original Image\", mousePoints)\n",
    "    if cv2.waitKey(1) & 0xFF == ord('s'):\n",
    "      print(myPoints)\n",
    "      break"
   ]
  },
  {
   "cell_type": "code",
   "execution_count": null,
   "metadata": {},
   "outputs": [],
   "source": []
  }
 ]
}